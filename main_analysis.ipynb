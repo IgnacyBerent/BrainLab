{
 "cells": [
  {
   "cell_type": "code",
   "execution_count": 4,
   "metadata": {},
   "outputs": [],
   "source": [
    "import os\n",
    "import prep\n",
    "import prsa"
   ]
  },
  {
   "cell_type": "code",
   "execution_count": 9,
   "metadata": {},
   "outputs": [],
   "source": [
    "normo_data_path = 'data/normokapnia'\n",
    "hiper_data_path = 'data/hiperkapnia'\n",
    "\n",
    "results = {}\n",
    "normo_dc_data = []\n",
    "normo_ac_data = []\n",
    "hiper_dc_data = []\n",
    "hiper_ac_data = []\n",
    "for normo_file, hiper_file in zip(os.listdir(normo_data_path), os.listdir(hiper_data_path)):\n",
    "    if normo_file.endswith('.csv') and hiper_file.endswith('.csv'):\n",
    "        normo_file_path = os.path.join(normo_data_path, normo_file)  \n",
    "        hiper_file_path = os.path.join(hiper_data_path, hiper_file)\n",
    "        \n",
    "        normo_data = prep.read_data(normo_file_path, 'abp_finger[mm_Hg]')\n",
    "        hiper_data = prep.read_data(hiper_file_path, 'abp_finger[mm_Hg]')\n",
    "        normo_dc, normo_ac = prsa.calculate_rr_dc_ac(signal_df = normo_data, percentile = 0.8, distance = 50)\n",
    "        hiper_dc, hiper_ac = prsa.calculate_rr_dc_ac(signal_df = hiper_data, percentile = 0.8, distance = 50)\n",
    "        normo_dc_data.append(normo_dc)\n",
    "        normo_ac_data.append(normo_ac)\n",
    "        hiper_dc_data.append(hiper_dc)\n",
    "        hiper_ac_data.append(hiper_ac)\n",
    "capacities = (normo_dc_data, normo_ac_data, hiper_dc_data, hiper_ac_data)"
   ]
  },
  {
   "cell_type": "code",
   "execution_count": 11,
   "metadata": {},
   "outputs": [
    {
     "name": "stdout",
     "output_type": "stream",
     "text": [
      "abp_finger[mm_Hg]\n",
      "                      DC            AC\n",
      "normocapnia  0.04 ± 0.16  -0.02 ± 0.10\n",
      "hypercapnia  0.06 ± 0.20  -0.01 ± 0.07\n"
     ]
    }
   ],
   "source": [
    "prsa.compare_capacities('abp_finger[mm_Hg]', capacities[0], capacities[1], capacities[2], capacities[3])"
   ]
  },
  {
   "cell_type": "code",
   "execution_count": null,
   "metadata": {},
   "outputs": [],
   "source": []
  }
 ],
 "metadata": {
  "kernelspec": {
   "display_name": "Python 3",
   "language": "python",
   "name": "python3"
  },
  "language_info": {
   "codemirror_mode": {
    "name": "ipython",
    "version": 3
   },
   "file_extension": ".py",
   "mimetype": "text/x-python",
   "name": "python",
   "nbconvert_exporter": "python",
   "pygments_lexer": "ipython3",
   "version": "3.10.4"
  },
  "orig_nbformat": 4
 },
 "nbformat": 4,
 "nbformat_minor": 2
}
