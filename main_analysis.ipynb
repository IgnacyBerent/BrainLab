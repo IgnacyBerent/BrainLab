{
 "cells": [
  {
   "cell_type": "code",
   "execution_count": 1,
   "metadata": {},
   "outputs": [],
   "source": [
    "import os\n",
    "import prep\n",
    "import prsa"
   ]
  },
  {
   "cell_type": "code",
   "execution_count": 2,
   "metadata": {},
   "outputs": [],
   "source": [
    "params = ['fv_r[]', 'fv_l[]', 'abp_finger[mm_Hg]', 'abp_arm[mm_Hg]']"
   ]
  },
  {
   "cell_type": "code",
   "execution_count": 3,
   "metadata": {},
   "outputs": [
    {
     "ename": "ValueError",
     "evalue": "Signal window is too large",
     "output_type": "error",
     "traceback": [
      "\u001b[1;31m---------------------------------------------------------------------------\u001b[0m",
      "\u001b[1;31mValueError\u001b[0m                                Traceback (most recent call last)",
      "\u001b[1;32mc:\\Users\\Ignacy\\PycharmProjects\\Brainlab\\main_analysis.ipynb Cell 3\u001b[0m line \u001b[0;36m1\n\u001b[0;32m     <a href='vscode-notebook-cell:/c%3A/Users/Ignacy/PycharmProjects/Brainlab/main_analysis.ipynb#W2sZmlsZQ%3D%3D?line=14'>15</a>\u001b[0m normo_data \u001b[39m=\u001b[39m prep\u001b[39m.\u001b[39mread_data(normo_file_path, param)\n\u001b[0;32m     <a href='vscode-notebook-cell:/c%3A/Users/Ignacy/PycharmProjects/Brainlab/main_analysis.ipynb#W2sZmlsZQ%3D%3D?line=15'>16</a>\u001b[0m hiper_data \u001b[39m=\u001b[39m prep\u001b[39m.\u001b[39mread_data(hiper_file_path, param)\n\u001b[1;32m---> <a href='vscode-notebook-cell:/c%3A/Users/Ignacy/PycharmProjects/Brainlab/main_analysis.ipynb#W2sZmlsZQ%3D%3D?line=17'>18</a>\u001b[0m normo_dc, normo_ac \u001b[39m=\u001b[39m prsa\u001b[39m.\u001b[39;49mcalculate_rr_dc_ac(signal_df \u001b[39m=\u001b[39;49m normo_data, percentile \u001b[39m=\u001b[39;49m \u001b[39m0.6\u001b[39;49m)\n\u001b[0;32m     <a href='vscode-notebook-cell:/c%3A/Users/Ignacy/PycharmProjects/Brainlab/main_analysis.ipynb#W2sZmlsZQ%3D%3D?line=18'>19</a>\u001b[0m hiper_dc, hiper_ac \u001b[39m=\u001b[39m prsa\u001b[39m.\u001b[39mcalculate_rr_dc_ac(signal_df \u001b[39m=\u001b[39m hiper_data, percentile \u001b[39m=\u001b[39m \u001b[39m0.6\u001b[39m)\n\u001b[0;32m     <a href='vscode-notebook-cell:/c%3A/Users/Ignacy/PycharmProjects/Brainlab/main_analysis.ipynb#W2sZmlsZQ%3D%3D?line=20'>21</a>\u001b[0m normo_dc_data\u001b[39m.\u001b[39mappend(normo_dc)\n",
      "File \u001b[1;32mc:\\Users\\Ignacy\\PycharmProjects\\Brainlab\\prsa.py:147\u001b[0m, in \u001b[0;36mcalculate_rr_dc_ac\u001b[1;34m(signal_df, percentile)\u001b[0m\n\u001b[0;32m    144\u001b[0m cut_off \u001b[39m=\u001b[39m np\u001b[39m.\u001b[39mmax(signal_df[\u001b[39m\"\u001b[39m\u001b[39mValues\u001b[39m\u001b[39m\"\u001b[39m]) \u001b[39m*\u001b[39m percentile\n\u001b[0;32m    145\u001b[0m rr_signal \u001b[39m=\u001b[39m get_rr_intervals(signal_df, cut_off)\n\u001b[1;32m--> 147\u001b[0m prsa__dc \u001b[39m=\u001b[39m calculate(rr_signal, \u001b[39m3\u001b[39;49m, \u001b[39m\"\u001b[39;49m\u001b[39mDC\u001b[39;49m\u001b[39m\"\u001b[39;49m)\n\u001b[0;32m    148\u001b[0m prsa_ac \u001b[39m=\u001b[39m calculate(rr_signal, \u001b[39m3\u001b[39m, \u001b[39m\"\u001b[39m\u001b[39mAC\u001b[39m\u001b[39m\"\u001b[39m)\n\u001b[0;32m    150\u001b[0m capacity_dc \u001b[39m=\u001b[39m capacity(prsa__dc)\n",
      "File \u001b[1;32mc:\\Users\\Ignacy\\PycharmProjects\\Brainlab\\prsa.py:22\u001b[0m, in \u001b[0;36mcalculate\u001b[1;34m(x, L, mode, percent_kernel)\u001b[0m\n\u001b[0;32m     20\u001b[0m     \u001b[39mraise\u001b[39;00m \u001b[39mValueError\u001b[39;00m(\u001b[39m'\u001b[39m\u001b[39mMode has to be \u001b[39m\u001b[39m\"\u001b[39m\u001b[39mDC\u001b[39m\u001b[39m\"\u001b[39m\u001b[39m or \u001b[39m\u001b[39m\"\u001b[39m\u001b[39mAC\u001b[39m\u001b[39m\"\u001b[39m\u001b[39m'\u001b[39m)\n\u001b[0;32m     21\u001b[0m \u001b[39mif\u001b[39;00m \u001b[39mlen\u001b[39m(x) \u001b[39m<\u001b[39m \u001b[39m2\u001b[39m \u001b[39m*\u001b[39m L:\n\u001b[1;32m---> 22\u001b[0m     \u001b[39mraise\u001b[39;00m \u001b[39mValueError\u001b[39;00m(\u001b[39m\"\u001b[39m\u001b[39mSignal window is too large\u001b[39m\u001b[39m\"\u001b[39m)\n\u001b[0;32m     24\u001b[0m indexs \u001b[39m=\u001b[39m np\u001b[39m.\u001b[39marange(\u001b[39mlen\u001b[39m(x))\n\u001b[0;32m     26\u001b[0m \u001b[39m# It doesn't take under consideration first and last L points\u001b[39;00m\n",
      "\u001b[1;31mValueError\u001b[0m: Signal window is too large"
     ]
    }
   ],
   "source": [
    "normo_data_path = 'data/normokapnia'\n",
    "hiper_data_path = 'data/hiperkapnia'\n",
    "\n",
    "results = {}\n",
    "for param in params:\n",
    "    normo_dc_data = []\n",
    "    normo_ac_data = []\n",
    "    hiper_dc_data = []\n",
    "    hiper_ac_data = []\n",
    "    for normo_file, hiper_file in zip(os.listdir(normo_data_path), os.listdir(hiper_data_path)):\n",
    "        if normo_file.endswith('.csv') and hiper_file.endswith('.csv'):\n",
    "            normo_file_path = os.path.join(normo_data_path, normo_file)  \n",
    "            hiper_file_path = os.path.join(hiper_data_path, hiper_file)\n",
    "            \n",
    "            normo_data = prep.read_data(normo_file_path, param)\n",
    "            hiper_data = prep.read_data(hiper_file_path, param)\n",
    "\n",
    "            normo_dc, normo_ac = prsa.calculate_rr_dc_ac(signal_df = normo_data, percentile = 0.6, distance = 50)\n",
    "            hiper_dc, hiper_ac = prsa.calculate_rr_dc_ac(signal_df = hiper_data, percentile = 0.6, distance = 50)\n",
    "\n",
    "            normo_dc_data.append(normo_dc)\n",
    "            normo_ac_data.append(normo_ac)\n",
    "            hiper_dc_data.append(hiper_dc)\n",
    "            hiper_ac_data.append(hiper_ac)\n",
    "\n",
    "    capacities = (normo_dc_data, normo_ac_data, hiper_dc_data, hiper_ac_data)\n",
    "    results[param] = capacities"
   ]
  },
  {
   "cell_type": "code",
   "execution_count": null,
   "metadata": {},
   "outputs": [
    {
     "ename": "NameError",
     "evalue": "name 'results' is not defined",
     "output_type": "error",
     "traceback": [
      "\u001b[1;31m---------------------------------------------------------------------------\u001b[0m",
      "\u001b[1;31mNameError\u001b[0m                                 Traceback (most recent call last)",
      "\u001b[1;32mc:\\Users\\Ignacy\\PycharmProjects\\Brainlab\\notatki_jupiter.ipynb Cell 4\u001b[0m line \u001b[0;36m1\n\u001b[1;32m----> <a href='vscode-notebook-cell:/c%3A/Users/Ignacy/PycharmProjects/Brainlab/notatki_jupiter.ipynb#X13sZmlsZQ%3D%3D?line=0'>1</a>\u001b[0m \u001b[39mfor\u001b[39;00m param_name, capacities \u001b[39min\u001b[39;00m results\u001b[39m.\u001b[39mitems():\n\u001b[0;32m      <a href='vscode-notebook-cell:/c%3A/Users/Ignacy/PycharmProjects/Brainlab/notatki_jupiter.ipynb#X13sZmlsZQ%3D%3D?line=1'>2</a>\u001b[0m     prsa\u001b[39m.\u001b[39mcompare_capacities(param_name, capacities)\n",
      "\u001b[1;31mNameError\u001b[0m: name 'results' is not defined"
     ]
    }
   ],
   "source": [
    "for param_name, capacities in results.items():\n",
    "    prsa.compare_capacities(param_name, capacities)"
   ]
  }
 ],
 "metadata": {
  "kernelspec": {
   "display_name": "Python 3",
   "language": "python",
   "name": "python3"
  },
  "language_info": {
   "codemirror_mode": {
    "name": "ipython",
    "version": 3
   },
   "file_extension": ".py",
   "mimetype": "text/x-python",
   "name": "python",
   "nbconvert_exporter": "python",
   "pygments_lexer": "ipython3",
   "version": "3.10.4"
  },
  "orig_nbformat": 4
 },
 "nbformat": 4,
 "nbformat_minor": 2
}
