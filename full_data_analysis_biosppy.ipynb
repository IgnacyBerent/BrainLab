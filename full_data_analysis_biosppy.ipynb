{
 "cells": [
  {
   "cell_type": "code",
   "execution_count": 18,
   "metadata": {},
   "outputs": [],
   "source": [
    "import prep\n",
    "import prsa\n",
    "import os\n",
    "import numpy as np\n",
    "import biosppy"
   ]
  },
  {
   "cell_type": "code",
   "execution_count": 19,
   "metadata": {},
   "outputs": [],
   "source": [
    "FOLDER_NAME = 'biosppy_results' # folder to save results in .csv format"
   ]
  },
  {
   "cell_type": "code",
   "execution_count": 20,
   "metadata": {},
   "outputs": [],
   "source": [
    "NORMO_DIR = './data_2/normokapnia'\n",
    "HYPER_DIR = './data_2/hiperkapnia'\n",
    "\n",
    "ABP_COLUMN = 'abp_finger_mm_hg_[abp_finger_mm_Hg_]'\n",
    "ALTERNATIVE_ABP_COLUMN = 'abp_finger[abp_finger]'"
   ]
  },
  {
   "cell_type": "code",
   "execution_count": 21,
   "metadata": {},
   "outputs": [],
   "source": [
    "normo_dc_data = {}\n",
    "normo_ac_data = {}\n",
    "hyper_dc_data = {}\n",
    "hyper_ac_data = {}\n",
    "\n",
    "normo_dc_w = {}\n",
    "normo_ac_w = {}\n",
    "hyper_dc_w = {}\n",
    "hyper_ac_w = {}"
   ]
  },
  {
   "cell_type": "code",
   "execution_count": 22,
   "metadata": {},
   "outputs": [
    {
     "name": "stdout",
     "output_type": "stream",
     "text": [
      "e[3]_[n]_[23].csv\n",
      "e[3]_[n]_[25].csv\n"
     ]
    },
    {
     "name": "stderr",
     "output_type": "stream",
     "text": [
      "c:\\Users\\user\\PycharmProjects\\Brainlab\\venv\\Lib\\site-packages\\numpy\\core\\fromnumeric.py:3504: RuntimeWarning: Mean of empty slice.\n",
      "  return _methods._mean(a, axis=axis, dtype=dtype,\n",
      "c:\\Users\\user\\PycharmProjects\\Brainlab\\venv\\Lib\\site-packages\\numpy\\core\\_methods.py:129: RuntimeWarning: invalid value encountered in scalar divide\n",
      "  ret = ret.dtype.type(ret / rcount)\n"
     ]
    },
    {
     "name": "stdout",
     "output_type": "stream",
     "text": [
      "e[3]_[n]_[29].csv\n",
      "e[3]_[n]_[31].csv\n",
      "e[3]_[n]_[35].csv\n",
      "e[3]_[n]_[41].csv\n",
      "e[3]_[n]_[48].csv\n"
     ]
    }
   ],
   "source": [
    "for filename in os.listdir(NORMO_DIR):\n",
    "    if os.path.isfile(os.path.join(NORMO_DIR, filename)):\n",
    "        file_path = os.path.join(NORMO_DIR, filename)\n",
    "        try:\n",
    "            df = prep.read_data(file_path, ABP_COLUMN, sep=';')\n",
    "        except KeyError:\n",
    "            df = prep.read_data(file_path, ALTERNATIVE_ABP_COLUMN, sep=';')\n",
    "\n",
    "        try:\n",
    "            df.interpolate(method='linear', inplace=True)\n",
    "            filtered_abp = biosppy.signals.abp.abp(signal=df['Values'], sampling_rate=200, show=False)[1]\n",
    "            peaks_indexs = biosppy.signals.abp.find_onsets_zong2003(signal=filtered_abp, sampling_rate=200, d1_th = 30, d2_th = 0.1)[0]\n",
    "\n",
    "            # makes array of time at wich peaks occured\n",
    "            peaks_time = df[\"TimeSteps\"].iloc[peaks_indexs].to_numpy() * 0.005\n",
    "            # calculates intervals between peaks\n",
    "            rr_intervals = np.array(np.diff(peaks_time))\n",
    "            prsa_dc, dc_w = prsa.calculate(rr_intervals, 3, \"DC\", 0.2)\n",
    "            prsa_ac, ac_w = prsa.calculate(rr_intervals, 3, \"AC\", 0.2)\n",
    "            dc= prsa.capacity(prsa_dc)\n",
    "            ac = prsa.capacity(prsa_ac)\n",
    "        except:\n",
    "            print(filename)\n",
    "            continue\n",
    "        else:\n",
    "            filename = filename[-7:-5]\n",
    "            normo_dc_data[filename] = dc\n",
    "            normo_ac_data[filename] = ac\n",
    "            normo_dc_w[filename] = dc_w\n",
    "            normo_ac_w[filename] = ac_w"
   ]
  },
  {
   "cell_type": "code",
   "execution_count": 23,
   "metadata": {},
   "outputs": [
    {
     "name": "stdout",
     "output_type": "stream",
     "text": [
      "e[3]_[h]_[04].csv\n",
      "e[3]_[h]_[09].csv\n",
      "e[3]_[h]_[14].csv\n",
      "e[3]_[h]_[25].csv\n",
      "e[3]_[h]_[35].csv\n",
      "e[3]_[h]_[41].csv\n",
      "e[3]_[h]_[47].csv\n",
      "e[3]_[h]_[48].csv\n"
     ]
    }
   ],
   "source": [
    "for filename in os.listdir(HYPER_DIR):\n",
    "    if os.path.isfile(os.path.join(HYPER_DIR, filename)):\n",
    "        file_path = os.path.join(HYPER_DIR, filename)\n",
    "        try:\n",
    "            df = prep.read_data(file_path, ABP_COLUMN, sep=';')\n",
    "        except KeyError:\n",
    "            df = prep.read_data(file_path, ALTERNATIVE_ABP_COLUMN, sep=';')\n",
    "\n",
    "        try:\n",
    "            df.interpolate(method='linear', inplace=True)\n",
    "            filtered_abp = biosppy.signals.abp.abp(signal=df['Values'], sampling_rate=200, show=False)[1]\n",
    "            peaks_indexs = biosppy.signals.abp.find_onsets_zong2003(signal=filtered_abp, sampling_rate=200, d1_th = 30, d2_th = 0.1)[0]\n",
    "\n",
    "            # makes array of time at wich peaks occured\n",
    "            peaks_time = df[\"TimeSteps\"].iloc[peaks_indexs].to_numpy() * 0.005\n",
    "            # calculates intervals between peaks\n",
    "            rr_intervals = np.array(np.diff(peaks_time))\n",
    "            prsa_dc, dc_w = prsa.calculate(rr_intervals, 3, \"DC\", 0.2)\n",
    "            prsa_ac, ac_w = prsa.calculate(rr_intervals, 3, \"AC\", 0.2)\n",
    "            dc = prsa.capacity(prsa_dc)\n",
    "            ac = prsa.capacity(prsa_ac)\n",
    "        except:\n",
    "            print(filename)\n",
    "            continue\n",
    "        else:\n",
    "            filename = filename[-7:-5]\n",
    "            hyper_dc_data[filename] = dc\n",
    "            hyper_ac_data[filename] = ac\n",
    "            hyper_dc_w[filename] = dc_w\n",
    "            hyper_ac_w[filename] = ac_w"
   ]
  },
  {
   "cell_type": "code",
   "execution_count": 58,
   "metadata": {},
   "outputs": [],
   "source": [
    "def save_to_csv(file_tittle: str, folder_name: str, **columns: dict[str: float]):\n",
    "    \"\"\"\n",
    "    Saves results to csv file\n",
    "    :param file_tittle: name of the file\n",
    "    :param folder_name: name of the folder\n",
    "    :param columns: column names and their values for given file\n",
    "    \"\"\"\n",
    "\n",
    "    # Get the column names and values\n",
    "    columns_names = list(columns.keys())\n",
    "    columns_values = list(columns.values())\n",
    "\n",
    "    # Get the filenames\n",
    "    filenames = set()\n",
    "    for col in columns_values:\n",
    "        filenames.update(list(col.keys()))\n",
    "\n",
    "    filenames = list(filenames)\n",
    "    filenames.sort(key=lambda x: int(x))\n",
    "    # Create the directory if it doesn't exist\n",
    "    os.makedirs(folder_name, exist_ok=True)\n",
    "\n",
    "    with open(f'{folder_name}/{file_tittle}.csv', 'w') as f:\n",
    "        f.write(f'file number;{\";\".join(columns_names)}\\n')\n",
    "        for filename in filenames:\n",
    "            row_values = [row.get(filename, -np.inf) for row in columns_values]\n",
    "            if -np.inf in row_values:\n",
    "                continue\n",
    "            f.write(f'{filename};{\";\".join([str(val) for val in row_values])}\\n')\n"
   ]
  },
  {
   "cell_type": "code",
   "execution_count": 59,
   "metadata": {},
   "outputs": [],
   "source": [
    "save_to_csv(\n",
    "    file_tittle = 'AC_DC_Values',\n",
    "    folder_name = FOLDER_NAME,\n",
    "    AC_normo = normo_ac_data, \n",
    "    AC_hyper = hyper_ac_data,\n",
    "    DC_normo = normo_dc_data, \n",
    "    DC_hyper = hyper_dc_data,\n",
    "    )"
   ]
  },
  {
   "cell_type": "code",
   "execution_count": 60,
   "metadata": {},
   "outputs": [],
   "source": [
    "save_to_csv(\n",
    "    file_tittle = 'AC_DC_Windows',\n",
    "    folder_name = FOLDER_NAME,\n",
    "    AC_normo_W = normo_ac_w,\n",
    "    AC_hyper_W = hyper_ac_w,\n",
    "    DC_normo_W = normo_dc_w,\n",
    "    DC_hyper_W = hyper_dc_w\n",
    "    )"
   ]
  },
  {
   "cell_type": "code",
   "execution_count": null,
   "metadata": {},
   "outputs": [],
   "source": []
  }
 ],
 "metadata": {
  "kernelspec": {
   "display_name": "venv",
   "language": "python",
   "name": "python3"
  },
  "language_info": {
   "codemirror_mode": {
    "name": "ipython",
    "version": 3
   },
   "file_extension": ".py",
   "mimetype": "text/x-python",
   "name": "python",
   "nbconvert_exporter": "python",
   "pygments_lexer": "ipython3",
   "version": "3.11.5"
  }
 },
 "nbformat": 4,
 "nbformat_minor": 2
}
