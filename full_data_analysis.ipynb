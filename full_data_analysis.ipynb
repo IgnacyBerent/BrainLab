{
 "cells": [
  {
   "cell_type": "code",
   "execution_count": 9,
   "metadata": {},
   "outputs": [],
   "source": [
    "import prep\n",
    "import prsa\n",
    "import os"
   ]
  },
  {
   "cell_type": "code",
   "execution_count": 10,
   "metadata": {},
   "outputs": [],
   "source": [
    "NORMO_DIR = './data_2/normokapnia'\n",
    "HYPER_DIR = './data_2/hiperkapnia'\n",
    "\n",
    "ABP_COLUMN = 'abp_finger_mm_hg_[abp_finger_mm_Hg_]'\n",
    "ALTERNATIVE_ABP_COLUMN = 'abp_finger[abp_finger]'"
   ]
  },
  {
   "cell_type": "code",
   "execution_count": 11,
   "metadata": {},
   "outputs": [],
   "source": [
    "normo_dc_data = []\n",
    "normo_ac_data = []\n",
    "hyper_dc_data = []\n",
    "hyper_ac_data = []\n",
    "\n",
    "normo_dc_w = []\n",
    "normo_ac_w = []\n",
    "hyper_dc_w = []\n",
    "hyper_ac_w = []\n",
    "\n",
    "normo_names = []\n",
    "hyper_names = []"
   ]
  },
  {
   "cell_type": "code",
   "execution_count": 12,
   "metadata": {},
   "outputs": [],
   "source": [
    "for filename in os.listdir(NORMO_DIR):\n",
    "    if os.path.isfile(os.path.join(NORMO_DIR, filename)):\n",
    "        file_path = os.path.join(NORMO_DIR, filename)\n",
    "        normo_names.append(filename)\n",
    "        try:\n",
    "            df = prep.read_data(file_path, ABP_COLUMN, sep=';')\n",
    "        except KeyError:\n",
    "            df = prep.read_data(file_path, ALTERNATIVE_ABP_COLUMN, sep=';')\n",
    "        \n",
    "        dc, ac, dc_w, ac_w = prsa.calculate_rr_dc_ac(\n",
    "                                signal_df = df, percentile = 0.70, distance = 100, show_plot=False, plot_title=None)\n",
    "\n",
    "        normo_dc_data.append(dc)\n",
    "        normo_ac_data.append(ac)\n",
    "        normo_dc_w.append(dc_w)\n",
    "        normo_ac_w.append(ac_w)"
   ]
  },
  {
   "cell_type": "code",
   "execution_count": 13,
   "metadata": {},
   "outputs": [],
   "source": [
    "for filename in os.listdir(HYPER_DIR):\n",
    "    if os.path.isfile(os.path.join(NORMO_DIR, filename)):\n",
    "        file_path = os.path.join(NORMO_DIR, filename)\n",
    "        hyper_names.append(filename)\n",
    "        try:\n",
    "            df = prep.read_data(file_path, ABP_COLUMN, sep=';')\n",
    "        except KeyError:\n",
    "            df = prep.read_data(file_path, ALTERNATIVE_ABP_COLUMN, sep=';')\n",
    "        \n",
    "        dc, ac, dc_w, ac_w = prsa.calculate_rr_dc_ac(\n",
    "                                signal_df = df, percentile = 0.70, distance = 100, show_plot=False, plot_title=None)\n",
    "\n",
    "        hyper_ac_data.append(ac)\n",
    "        hyper_dc_data.append(dc)\n",
    "        hyper_ac_w.append(ac_w)\n",
    "        hyper_dc_w.append(dc_w)"
   ]
  },
  {
   "cell_type": "code",
   "execution_count": 23,
   "metadata": {},
   "outputs": [],
   "source": [
    "prep.save_to_csv(\n",
    "    'AC_DC_Values', normo_names, \n",
    "    normo_ac_data, hyper_ac_data, normo_dc_data, hyper_dc_data,\n",
    "    'AC_normo', 'AC_hyper', 'DC_normo', 'DC_hyper')\n"
   ]
  },
  {
   "cell_type": "code",
   "execution_count": null,
   "metadata": {},
   "outputs": [],
   "source": [
    "prep.save_to_csv(\n",
    "    'AC_DC_Windows', normo_names, \n",
    "    normo_ac_w, hyper_ac_w, normo_dc_w, hyper_dc_w,\n",
    "    'AC_normo_W', 'AC_hyper_W', 'DC_normo_W', 'DC_hyper_W')"
   ]
  }
 ],
 "metadata": {
  "kernelspec": {
   "display_name": "venv",
   "language": "python",
   "name": "python3"
  },
  "language_info": {
   "codemirror_mode": {
    "name": "ipython",
    "version": 3
   },
   "file_extension": ".py",
   "mimetype": "text/x-python",
   "name": "python",
   "nbconvert_exporter": "python",
   "pygments_lexer": "ipython3",
   "version": "3.10.4"
  }
 },
 "nbformat": 4,
 "nbformat_minor": 2
}
